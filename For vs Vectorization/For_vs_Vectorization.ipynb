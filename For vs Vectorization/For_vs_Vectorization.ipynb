{
 "cells": [
  {
   "cell_type": "code",
   "execution_count": 1,
   "id": "c54a809c",
   "metadata": {},
   "outputs": [],
   "source": [
    "import numpy as np\n",
    "import time as tm"
   ]
  },
  {
   "cell_type": "code",
   "execution_count": 2,
   "id": "7f558a65",
   "metadata": {},
   "outputs": [
    {
     "name": "stdout",
     "output_type": "stream",
     "text": [
      "waktu yang diperlukan dalam vectorization adalah 5.985498428344727 ms\n",
      "waktu yang diperlukan dalam for loop adalah 708.1723213195801 ms\n",
      "jadi vektorization akan 118 kali lebih cepat daripada for loop\n"
     ]
    }
   ],
   "source": [
    "a = np.random.rand(1000000)\n",
    "b = np.random.rand(1000000)\n",
    "\n",
    "waktu_awal = tm.time()\n",
    "c = np.dot(a,b)\n",
    "waktu_akhir = tm.time()\n",
    "\n",
    "waktu_hitung_1 = (waktu_akhir-waktu_awal)*1000\n",
    "print(f\"waktu yang diperlukan dalam vectorization adalah {str(waktu_hitung_1)} ms\")\n",
    "\n",
    "c=0\n",
    "waktu_awal = tm.time()\n",
    "for i in range(1000000):\n",
    "    c += a[i]*b[i]\n",
    "waktu_akhir = tm.time()\n",
    "\n",
    "waktu_hitung_2 = (waktu_akhir-waktu_awal)*1000\n",
    "print(f\"waktu yang diperlukan dalam for loop adalah {str(waktu_hitung_2)} ms\")\n",
    "\n",
    "print(f\"jadi vektorization akan {str(round(waktu_hitung_2/waktu_hitung_1))} kali lebih cepat daripada for loop\")"
   ]
  },
  {
   "cell_type": "code",
   "execution_count": null,
   "id": "89a76b26",
   "metadata": {},
   "outputs": [],
   "source": []
  }
 ],
 "metadata": {
  "kernelspec": {
   "display_name": "Python 3 (ipykernel)",
   "language": "python",
   "name": "python3"
  },
  "language_info": {
   "codemirror_mode": {
    "name": "ipython",
    "version": 3
   },
   "file_extension": ".py",
   "mimetype": "text/x-python",
   "name": "python",
   "nbconvert_exporter": "python",
   "pygments_lexer": "ipython3",
   "version": "3.9.7"
  }
 },
 "nbformat": 4,
 "nbformat_minor": 5
}
