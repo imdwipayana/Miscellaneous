{
 "cells": [
  {
   "cell_type": "code",
   "execution_count": null,
   "id": "154eea29",
   "metadata": {},
   "outputs": [],
   "source": [
    "# pip install qrcode"
   ]
  },
  {
   "cell_type": "code",
   "execution_count": 4,
   "id": "8c7fc4b6",
   "metadata": {},
   "outputs": [],
   "source": [
    "import qrcode as QR"
   ]
  },
  {
   "cell_type": "code",
   "execution_count": 5,
   "id": "aceb4ccf",
   "metadata": {},
   "outputs": [],
   "source": [
    "gambar = QR.make('https://github.com/imdwipayana')"
   ]
  },
  {
   "cell_type": "code",
   "execution_count": 6,
   "id": "a2898c8c",
   "metadata": {},
   "outputs": [],
   "source": [
    "gambar.save(\"github.png\")"
   ]
  },
  {
   "cell_type": "code",
   "execution_count": null,
   "id": "42accf7c",
   "metadata": {},
   "outputs": [],
   "source": []
  },
  {
   "cell_type": "code",
   "execution_count": null,
   "id": "50dd46e1",
   "metadata": {},
   "outputs": [],
   "source": [
    "# pip install opencv-python"
   ]
  },
  {
   "cell_type": "code",
   "execution_count": 7,
   "id": "8d80add6",
   "metadata": {},
   "outputs": [],
   "source": [
    "import cv2 as cv"
   ]
  },
  {
   "cell_type": "code",
   "execution_count": 8,
   "id": "b048af64",
   "metadata": {},
   "outputs": [],
   "source": [
    "detect = cv.QRCodeDetector()"
   ]
  },
  {
   "cell_type": "code",
   "execution_count": 13,
   "id": "1c24a2c0",
   "metadata": {},
   "outputs": [],
   "source": [
    "retval, points, straight_qrcode = detect.detectAndDecode(cv.imread('github.png'))"
   ]
  },
  {
   "cell_type": "code",
   "execution_count": 14,
   "id": "0f7e43b6",
   "metadata": {},
   "outputs": [
    {
     "name": "stdout",
     "output_type": "stream",
     "text": [
      "https://github.com/imdwipayana\n"
     ]
    }
   ],
   "source": [
    "print(retval)"
   ]
  },
  {
   "cell_type": "code",
   "execution_count": null,
   "id": "c166b7cd",
   "metadata": {},
   "outputs": [],
   "source": []
  }
 ],
 "metadata": {
  "kernelspec": {
   "display_name": "Python 3 (ipykernel)",
   "language": "python",
   "name": "python3"
  },
  "language_info": {
   "codemirror_mode": {
    "name": "ipython",
    "version": 3
   },
   "file_extension": ".py",
   "mimetype": "text/x-python",
   "name": "python",
   "nbconvert_exporter": "python",
   "pygments_lexer": "ipython3",
   "version": "3.9.7"
  }
 },
 "nbformat": 4,
 "nbformat_minor": 5
}
