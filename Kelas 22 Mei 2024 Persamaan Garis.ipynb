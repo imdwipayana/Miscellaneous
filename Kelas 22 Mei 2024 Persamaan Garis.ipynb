{
 "cells": [
  {
   "cell_type": "code",
   "execution_count": 21,
   "id": "a47cf967",
   "metadata": {},
   "outputs": [
    {
     "name": "stdout",
     "output_type": "stream",
     "text": [
      "Nilai x dari titik pertama dari garis pertama adalah 0\n",
      "Nilai y dari titik pertama dari garis pertama adalah 0\n",
      "Nilai x dari titik kedua dari garis pertama adalah 1\n",
      "Nilai y dari titik kedua dari garis pertama adalah 1\n",
      "Nilai x dari titik pertama dari garis kedua adalah -1\n",
      "Nilai y dari titik pertama dari garis kedua adalah 0\n",
      "Nilai x dari titik kedua dari garis kedua adalah 0\n",
      "Nilai y dari titik kedua dari garis kedua adalah -1\n",
      "Persamaan garis pertama adalah y=1.0x+0.0\n",
      "Persamaan garis kedua adalah y=-1.0x+-1.0\n",
      "Akan terdapat satu titik potong\n",
      "Titik potong kedua garis adalah (-0.5,-0.5)\n"
     ]
    },
    {
     "data": {
      "image/png": "[encoded data removed]",
      "text/plain": [
       "<Figure size 432x288 with 1 Axes>"
      ]
     },
     "metadata": {
      "needs_background": "light"
     },
     "output_type": "display_data"
    }
   ],
   "source": [
    "# Persamaan garis yang melewati 2 titik\n",
    "# Garis pertama melewati (a,b) dan (c,d)\n",
    "# Garis kedua melewati (e,f) dan (g,h)\n",
    "# Terdapat 3 kemungkinan dari kedua persamaan garis ini:\n",
    "# 1. Terdapat perpotongan di satu titik (gradien kedua garis tidak sama)\n",
    "# 2. Terdapat tak berhingga banyaknya solusi (kedua garis berhimpitan) (kedua garis sejajar)\n",
    "# 3. Tidak terdapat perpotongan garis (tidak terdapat solusi) (kedua garis sejajar)\n",
    "\n",
    "import numpy as np\n",
    "import matplotlib.pyplot as plt\n",
    "\n",
    "a = float(input(\"Nilai x dari titik pertama dari garis pertama adalah \"))\n",
    "b = float(input(\"Nilai y dari titik pertama dari garis pertama adalah \"))\n",
    "c = float(input(\"Nilai x dari titik kedua dari garis pertama adalah \"))\n",
    "d = float(input(\"Nilai y dari titik kedua dari garis pertama adalah \"))\n",
    "\n",
    "e = float(input(\"Nilai x dari titik pertama dari garis kedua adalah \"))\n",
    "f = float(input(\"Nilai y dari titik pertama dari garis kedua adalah \"))\n",
    "g = float(input(\"Nilai x dari titik kedua dari garis kedua adalah \"))\n",
    "h = float(input(\"Nilai y dari titik kedua dari garis kedua adalah \"))\n",
    "\n",
    "m_1 = (d-b)/(c-a) # Gradien garis pertama\n",
    "m_2 = (h-f)/(g-e) # Gradien garis kedua\n",
    "\n",
    "# Persamaan garis pertama adalah y=m_1(x-a)+b=m_1x-m_1a+b\n",
    "# Persamaan garis kedua adalah y=m_2(x-e)+f=m_2x-m_2e+f\n",
    "\n",
    "c_1 = -m_1*a+b # Titik potong garis pertama terhadap sumbu y\n",
    "c_2 = -m_2*e+f # titik potong garis kedua terhadap sumbu y garis kedua\n",
    "\n",
    "print(\"Persamaan garis pertama adalah y={}x+{}\".format(m_1,c_1))\n",
    "print(\"Persamaan garis kedua adalah y={}x+{}\".format(m_2,c_2))\n",
    "\n",
    "if m_1==m_2:\n",
    "    #print(\"Kedua garis sejajar sehingga kemungkinannya adalah tidak terdapat solusi atau terdapat tak berhingga banyaknya solusi\")\n",
    "    if c_1 == c_2:\n",
    "        print(\"Kedua garis berhimpitan sehingga akan terdapat tak berhingga banyaknya solusi\")\n",
    "        x=np.linspace(-5,5,100)\n",
    "        plt.plot(x,m_1*(x-a)+b,color='red')\n",
    "        plt.plot(x,m_2*(x-e)+f,color='blue')\n",
    "        plt.show()\n",
    "    else:\n",
    "        print(\"Kedua garis tidak mungkin berpotongan, sehingga tidak akan terdapat solusi.\")\n",
    "        x=np.linspace(-5,5,100)\n",
    "        plt.plot(x,m_1*(x-a)+b,color='red')\n",
    "        plt.plot(x,m_2*(x-e)+f,color='blue')\n",
    "        plt.show()\n",
    "else:\n",
    "    print(\"Akan terdapat satu titik potong\")\n",
    "    tp_x = (-m_2*e+f+m_1*a-b)/(m_1-m_2)\n",
    "    tp_y = m_1*(tp_x-a)+b\n",
    "    print(\"Titik potong kedua garis adalah ({},{})\".format(tp_x,tp_y))\n",
    "    \n",
    "    x=np.linspace(tp_x-5,tp_x+5,100)\n",
    "    plt.plot(x,m_1*(x-a)+b,color='red')\n",
    "    plt.plot(x,m_2*(x-e)+f,color='blue')\n",
    "    plt.axvline(x=0,color='grey')\n",
    "    plt.axhline(y=0,color='grey')\n",
    "    plt.show()\n",
    "    "
   ]
  },
  {
   "cell_type": "code",
   "execution_count": null,
   "id": "1e5521e1",
   "metadata": {},
   "outputs": [],
   "source": [
    "# 1. Garis melewati 2 titik\n",
    "# 2. Garis diketahui gradien dan titik yang dilewati\n",
    "# 3. Megikuti persamaan garis ax+by=c dan dx+ey=f\n",
    "\n",
    "# Akan dicari titik potong dari dua garis yg memenuhi salah satu dari ketiga kasus di atas"
   ]
  },
  {
   "cell_type": "code",
   "execution_count": 38,
   "id": "535ce1e2",
   "metadata": {
    "scrolled": true
   },
   "outputs": [
    {
     "name": "stdout",
     "output_type": "stream",
     "text": [
      "Kasus berapakah yang akan dikerjakan? 1\n",
      "Masing-masing garis akan melewati dua titik yang diketahui.\n",
      "Nilai x dari titik pertama dari garis pertama adalah 1\n",
      "Nilai y dari titik pertama dari garis pertama adalah 1\n",
      "Nilai x dari titik kedua dari garis pertama adalah 1\n",
      "Nilai y dari titik kedua dari garis pertama adalah 3\n",
      "Nilai x dari titik pertama dari garis kedua adalah 1\n",
      "Nilai y dari titik pertama dari garis kedua adalah 2\n",
      "Nilai x dari titik kedua dari garis kedua adalah 3\n",
      "Nilai y dari titik kedua dari garis kedua adalah 4\n"
     ]
    },
    {
     "ename": "ZeroDivisionError",
     "evalue": "float division by zero",
     "output_type": "error",
     "traceback": [
      "\u001b[1;31m---------------------------------------------------------------------------\u001b[0m",
      "\u001b[1;31mZeroDivisionError\u001b[0m                         Traceback (most recent call last)",
      "\u001b[1;32m~\\AppData\\Local\\Temp/ipykernel_12580/1361754830.py\u001b[0m in \u001b[0;36m<module>\u001b[1;34m\u001b[0m\n\u001b[0;32m     16\u001b[0m     \u001b[0mh\u001b[0m \u001b[1;33m=\u001b[0m \u001b[0mfloat\u001b[0m\u001b[1;33m(\u001b[0m\u001b[0minput\u001b[0m\u001b[1;33m(\u001b[0m\u001b[1;34m\"Nilai y dari titik kedua dari garis kedua adalah \"\u001b[0m\u001b[1;33m)\u001b[0m\u001b[1;33m)\u001b[0m\u001b[1;33m\u001b[0m\u001b[1;33m\u001b[0m\u001b[0m\n\u001b[0;32m     17\u001b[0m \u001b[1;33m\u001b[0m\u001b[0m\n\u001b[1;32m---> 18\u001b[1;33m     \u001b[0mm_1\u001b[0m \u001b[1;33m=\u001b[0m \u001b[1;33m(\u001b[0m\u001b[0md\u001b[0m\u001b[1;33m-\u001b[0m\u001b[0mb\u001b[0m\u001b[1;33m)\u001b[0m\u001b[1;33m/\u001b[0m\u001b[1;33m(\u001b[0m\u001b[0mc\u001b[0m\u001b[1;33m-\u001b[0m\u001b[0ma\u001b[0m\u001b[1;33m)\u001b[0m \u001b[1;31m# Gradien garis pertama\u001b[0m\u001b[1;33m\u001b[0m\u001b[1;33m\u001b[0m\u001b[0m\n\u001b[0m\u001b[0;32m     19\u001b[0m     \u001b[0mm_2\u001b[0m \u001b[1;33m=\u001b[0m \u001b[1;33m(\u001b[0m\u001b[0mh\u001b[0m\u001b[1;33m-\u001b[0m\u001b[0mf\u001b[0m\u001b[1;33m)\u001b[0m\u001b[1;33m/\u001b[0m\u001b[1;33m(\u001b[0m\u001b[0mg\u001b[0m\u001b[1;33m-\u001b[0m\u001b[0me\u001b[0m\u001b[1;33m)\u001b[0m \u001b[1;31m# Gradien garis kedua\u001b[0m\u001b[1;33m\u001b[0m\u001b[1;33m\u001b[0m\u001b[0m\n\u001b[0;32m     20\u001b[0m \u001b[1;33m\u001b[0m\u001b[0m\n",
      "\u001b[1;31mZeroDivisionError\u001b[0m: float division by zero"
     ]
    }
   ],
   "source": [
    "import numpy as np\n",
    "import matplotlib.pyplot as plt\n",
    "\n",
    "kasus = float(input(\"Kasus berapakah yang akan dikerjakan? \"))\n",
    "\n",
    "if kasus==1:\n",
    "    print(\"Masing-masing garis akan melewati dua titik yang diketahui.\")\n",
    "    a = float(input(\"Nilai x dari titik pertama dari garis pertama adalah \"))\n",
    "    b = float(input(\"Nilai y dari titik pertama dari garis pertama adalah \"))\n",
    "    c = float(input(\"Nilai x dari titik kedua dari garis pertama adalah \"))\n",
    "    d = float(input(\"Nilai y dari titik kedua dari garis pertama adalah \"))\n",
    "\n",
    "    e = float(input(\"Nilai x dari titik pertama dari garis kedua adalah \"))\n",
    "    f = float(input(\"Nilai y dari titik pertama dari garis kedua adalah \"))\n",
    "    g = float(input(\"Nilai x dari titik kedua dari garis kedua adalah \"))\n",
    "    h = float(input(\"Nilai y dari titik kedua dari garis kedua adalah \"))\n",
    "\n",
    "    m_1 = (d-b)/(c-a) # Gradien garis pertama\n",
    "    m_2 = (h-f)/(g-e) # Gradien garis kedua\n",
    "\n",
    "    # Persamaan garis pertama adalah y=m_1(x-a)+b=m_1x-m_1a+b\n",
    "    # Persamaan garis kedua adalah y=m_2(x-e)+f=m_2x-m_2e+f\n",
    "\n",
    "    c_1 = -m_1*a+b # Titik potong garis pertama terhadap sumbu y\n",
    "    c_2 = -m_2*e+f # titik potong garis kedua terhadap sumbu y garis kedua\n",
    "\n",
    "    print(\"Persamaan garis pertama adalah y={:.3f}x+{:.3f}\".format(m_1,c_1))\n",
    "    print(\"Persamaan garis kedua adalah y={:.3f}x+{:.3f}\".format(m_2,c_2))\n",
    "\n",
    "    if m_1==m_2:\n",
    "        #print(\"Kedua garis sejajar sehingga kemungkinannya adalah tidak terdapat solusi atau terdapat tak berhingga banyaknya solusi\")\n",
    "        if c_1 == c_2:\n",
    "            print(\"Kedua garis berhimpitan sehingga akan terdapat tak berhingga banyaknya solusi\")\n",
    "            x=np.linspace(-5,5,100)\n",
    "            plt.plot(x,m_1*(x-a)+b,color='red')\n",
    "            plt.plot(x,m_2*(x-e)+f,color='blue')\n",
    "            plt.axvline(x=0,color='grey')\n",
    "            plt.axhline(y=0,color='grey')\n",
    "            plt.show()\n",
    "        else:\n",
    "            print(\"Kedua garis tidak mungkin berpotongan, sehingga tidak akan terdapat solusi.\")\n",
    "            x=np.linspace(-5,5,100)\n",
    "            plt.plot(x,m_1*(x-a)+b,color='red')\n",
    "            plt.plot(x,m_2*(x-e)+f,color='blue')\n",
    "            plt.axvline(x=0,color='grey')\n",
    "            plt.axhline(y=0,color='grey')\n",
    "            plt.show()\n",
    "    else:\n",
    "        print(\"Akan terdapat satu titik potong\")\n",
    "        tp_x = (-m_2*e+f+m_1*a-b)/(m_1-m_2)\n",
    "        tp_y = m_1*(tp_x-a)+b\n",
    "        print(\"Titik potong kedua garis adalah ({:.3f},{:.3f})\".format(tp_x,tp_y))\n",
    "    \n",
    "        x=np.linspace(tp_x-5,tp_x+5,100)\n",
    "        plt.plot(x,m_1*(x-a)+b,color='red',label=\"y={:.3f}(x-{:.3f})+{:.3f}\".format(m_1,a,b))\n",
    "        plt.plot(x,m_2*(x-e)+f,color='blue',label=\"y={:.3f}(x-{:.3f})+{:.3f}\".format(m_2,e,f))\n",
    "        plt.axvline(x=0,color='grey')\n",
    "        plt.axhline(y=0,color='grey')\n",
    "        plt.legend(loc='best')\n",
    "        plt.show()\n",
    "        \n",
    "elif kasus==2:\n",
    "    print(\"Masing-masing garis diketahui gradien dan titik yang dilewati.\")\n",
    "    m_1 = float(input(\"Gradien dari garis pertama adalah \"))\n",
    "    a = float(input(\"Nilai x dari titik yang dilewati oleh garis pertama adalah \"))\n",
    "    b = float(input(\"Nilai y dari titik yang dilewati oleh garis pertama adalah \"))\n",
    "    print(\"Persamaan garis pertama adalah y={}(x-{})+{}\".format(m_1,a,b))\n",
    "    \n",
    "    m_2 = float(input(\"Gradien dari garis kedua adalah \"))\n",
    "    c = float(input(\"Nilai x dari titik yang dilewati oleh garis kedua adalah \"))\n",
    "    d = float(input(\"Nilai y dari titik yang dilewati oleh garis kedua adalah \"))\n",
    "    print(\"Persamaan garis kedua adalah y={}(x-{})+{}\".format(m_2,c,d))\n",
    "    \n",
    "    c_1 = -m_1*a+b\n",
    "    c_2 = -m_2*c+d\n",
    "    \n",
    "    if m_1==m_2:\n",
    "        print(\"Kedua garis sejajar\")\n",
    "        if c_1 == c_2:\n",
    "            print(\"Terdapat tak berhingga banyaknya solusi\")\n",
    "        else:\n",
    "            print(\"Tidak terdapat solusi\")\n",
    "    else:\n",
    "        print(\"Kedua garis akan berpotongan di satu titik.\")\n",
    "        \n",
    "elif kasus==3:\n",
    "    print(\"Kedua garis memenuhi persamaan berbentuk ax+by=c dan dx+ey=f.\")\n",
    "    a=float(input(\"Koefisien dari x pada garis pertama adalah \"))\n",
    "    b=float(input(\"Koefisien dari y pada garis pertama adalah \"))\n",
    "    c=float(input(\"Konstanta dari garis pertama adalah \"))\n",
    "    \n",
    "    d=float(input(\"Koefisien dari x pada garis kedua adalah \"))\n",
    "    e=float(input(\"Koefisien dari y pada garis kedua adalah \"))\n",
    "    f=float(input(\"Konstanta dari garis kedua adalah \"))\n",
    "    \n",
    "    m_1 = (-a)/b\n",
    "    m_2 = (-d)/e\n",
    "    \n",
    "    c_1=c/b\n",
    "    c_2=f/e\n",
    "    \n",
    "    if m_1==m_2:\n",
    "        print(\"Kedua garis akan sejajar\")\n",
    "        if c_1==c_2:\n",
    "            print(\"Kedua garis berhimpitan\")\n",
    "        else:\n",
    "            print(\"Kedua garis sejajar\")\n",
    "    \n",
    "    else:\n",
    "        print(\"kedua garis akan berpotongan di satu titik\")\n",
    "else:\n",
    "    print(\"Hanya terdapat 3 kasus. Mohon masukkan 1, 2 atau 3 saja.\")"
   ]
  },
  {
   "cell_type": "markdown",
   "id": "fe657fa5",
   "metadata": {},
   "source": [
    "## "
   ]
  },
  {
   "cell_type": "code",
   "execution_count": 48,
   "id": "5f875898",
   "metadata": {},
   "outputs": [
    {
     "name": "stdout",
     "output_type": "stream",
     "text": [
      "[[-2.  1.]\n",
      " [ 3. -1.]]\n",
      "[[-1.]\n",
      " [ 3.]]\n"
     ]
    }
   ],
   "source": [
    "import numpy as np\n",
    "a=1\n",
    "b=1\n",
    "d=3\n",
    "e=2\n",
    "\n",
    "c = 2\n",
    "f = 3\n",
    "if a*e-b*d!=0:\n",
    "    A=np.array([[a,b],[d,e]])\n",
    "    C=np.array([[c],[f]])\n",
    "    Ainv = np.linalg.inv(A)\n",
    "    print(Ainv)\n",
    "    tp_xy = np.matmul(Ainv,C)\n",
    "    print(tp_xy)\n",
    "else:\n",
    "    print(\"Matrix singular\")"
   ]
  },
  {
   "cell_type": "code",
   "execution_count": null,
   "id": "47fe4a67",
   "metadata": {},
   "outputs": [],
   "source": []
  },
  {
   "cell_type": "code",
   "execution_count": null,
   "id": "764ef719",
   "metadata": {},
   "outputs": [],
   "source": []
  },
  {
   "cell_type": "code",
   "execution_count": null,
   "id": "1af6361a",
   "metadata": {},
   "outputs": [],
   "source": []
  },
  {
   "cell_type": "code",
   "execution_count": null,
   "id": "601dbe89",
   "metadata": {},
   "outputs": [],
   "source": []
  },
  {
   "cell_type": "code",
   "execution_count": null,
   "id": "395e3145",
   "metadata": {},
   "outputs": [],
   "source": [
    "_"
   ]
  }
 ],
 "metadata": {
  "kernelspec": {
   "display_name": "Python 3 (ipykernel)",
   "language": "python",
   "name": "python3"
  },
  "language_info": {
   "codemirror_mode": {
    "name": "ipython",
    "version": 3
   },
   "file_extension": ".py",
   "mimetype": "text/x-python",
   "name": "python",
   "nbconvert_exporter": "python",
   "pygments_lexer": "ipython3",
   "version": "3.9.7"
  }
 },
 "nbformat": 4,
 "nbformat_minor": 5
}
